{
 "cells": [
  {
   "cell_type": "markdown",
   "metadata": {},
   "source": [
    "# transformers: Image classification"
   ]
  },
  {
   "cell_type": "code",
   "execution_count": null,
   "metadata": {},
   "outputs": [],
   "source": [
    "%matplotlib inline"
   ]
  },
  {
   "cell_type": "code",
   "execution_count": null,
   "metadata": {},
   "outputs": [],
   "source": [
    "import matplotlib.pyplot as plt\n",
    "import numpy as np\n",
    "import torch\n",
    "from datasets import load_dataset\n",
    "from transformers import (\n",
    "    pipeline,\n",
    "    AutoImageProcessor,\n",
    "    AutoModelForImageClassification\n",
    ")"
   ]
  },
  {
   "cell_type": "markdown",
   "metadata": {},
   "source": [
    "## Load data"
   ]
  },
  {
   "cell_type": "code",
   "execution_count": null,
   "metadata": {},
   "outputs": [],
   "source": [
    "# load data\n",
    "# ds = load_dataset('beans')\n",
    "\n",
    "ds = load_dataset('food101', split='train[:5000]')\n",
    "ds = ds.train_test_split(test_size=0.2)\n",
    "\n",
    "print(ds)"
   ]
  },
  {
   "cell_type": "code",
   "execution_count": null,
   "metadata": {},
   "outputs": [],
   "source": [
    "# get label names\n",
    "label_names = ds['train'].features['label'].names\n",
    "\n",
    "print(label_names)"
   ]
  },
  {
   "cell_type": "code",
   "execution_count": null,
   "metadata": {},
   "outputs": [],
   "source": [
    "# show example images\n",
    "fig, axes = plt.subplots(nrows=4, ncols=4, figsize=(6, 5))\n",
    "random_ids = np.random.choice(len(ds['train']), size=axes.size, replace=False).tolist()\n",
    "for random_idx, ax in zip(random_ids, axes.ravel()):\n",
    "    pil_image = ds['train'][random_idx]['image']\n",
    "    label_idx = ds['train'][random_idx]['label']\n",
    "    ax.imshow(np.asarray(pil_image))\n",
    "    ax.set_title(label_names[label_idx])\n",
    "    ax.set(xticks=[], yticks=[], xlabel='', ylabel='')\n",
    "fig.tight_layout()"
   ]
  },
  {
   "cell_type": "markdown",
   "metadata": {},
   "source": [
    "## Load model"
   ]
  },
  {
   "cell_type": "code",
   "execution_count": null,
   "metadata": {},
   "outputs": [],
   "source": [
    "# set model name\n",
    "model_name = 'google/vit-base-patch16-224'\n",
    "# model_name = 'facebook/dinov2-small-imagenet1k-1-layer'"
   ]
  },
  {
   "cell_type": "code",
   "execution_count": null,
   "metadata": {},
   "outputs": [],
   "source": [
    "# create preprocessor\n",
    "processor = AutoImageProcessor.from_pretrained(model_name)\n",
    "\n",
    "# load model (trained on a different dataset)\n",
    "model = AutoModelForImageClassification.from_pretrained(model_name, device_map='auto')\n",
    "model = model.eval()"
   ]
  },
  {
   "cell_type": "code",
   "execution_count": null,
   "metadata": {},
   "outputs": [],
   "source": [
    "# load pipeline (preprocessor, model and postprocessor)\n",
    "pipe = pipeline('image-classification', model=model_name, device_map='auto')"
   ]
  },
  {
   "cell_type": "markdown",
   "metadata": {},
   "source": [
    "## Run model"
   ]
  },
  {
   "cell_type": "code",
   "execution_count": null,
   "metadata": {},
   "outputs": [],
   "source": [
    "# get batch of data\n",
    "batch_size = 16\n",
    "\n",
    "batch_dict = ds['train'][:batch_size]\n",
    "\n",
    "images = batch_dict['image']  # list of PIL images\n",
    "labels = batch_dict['label']  # list of integers"
   ]
  },
  {
   "cell_type": "code",
   "execution_count": null,
   "metadata": {},
   "outputs": [],
   "source": [
    "# preprocess images\n",
    "preprocessed_images = processor(images, return_tensors='pt')\n",
    "x = preprocessed_images['pixel_values']\n",
    "\n",
    "# run model\n",
    "with torch.no_grad():\n",
    "    outputs = model(x.to(model.device))\n",
    "\n",
    "logits = outputs.logits.cpu()\n",
    "\n",
    "print(f'Images shape: {x.shape}')\n",
    "print(f'Logits shape: {logits.shape}')"
   ]
  },
  {
   "cell_type": "code",
   "execution_count": null,
   "metadata": {},
   "outputs": [],
   "source": [
    "# get predicted labels\n",
    "label_ids = logits.argmax(dim=-1)\n",
    "labels = [model.config.id2label[lidx.item()] for lidx in label_ids]\n",
    "\n",
    "print(labels)"
   ]
  },
  {
   "cell_type": "code",
   "execution_count": null,
   "metadata": {},
   "outputs": [],
   "source": [
    "# show predictions\n",
    "fig, axes = plt.subplots(nrows=4, ncols=4, figsize=(6, 5))\n",
    "for idx, ax in enumerate(axes.ravel()):\n",
    "    image = np.asarray(images[idx])\n",
    "    label = labels[idx]\n",
    "    ax.imshow(image)\n",
    "    ax.set_title(label)\n",
    "    ax.set(xticks=[], yticks=[], xlabel='', ylabel='')\n",
    "fig.suptitle('Predictions')\n",
    "fig.tight_layout()"
   ]
  },
  {
   "cell_type": "markdown",
   "metadata": {},
   "source": [
    "## Run pipeline"
   ]
  },
  {
   "cell_type": "code",
   "execution_count": null,
   "metadata": {
    "scrolled": true
   },
   "outputs": [],
   "source": [
    "# run pipeline\n",
    "results = pipe(images)\n",
    "\n",
    "print(results)"
   ]
  },
  {
   "cell_type": "code",
   "execution_count": null,
   "metadata": {},
   "outputs": [],
   "source": [
    "# run pipeline parts separately\n",
    "preprocessed_image = pipe.preprocess(images[0])  # can process only a single input\n",
    "output = pipe.forward(preprocessed_image)\n",
    "postprocessed_result = pipe.postprocess(output)\n",
    "\n",
    "print(postprocessed_result)"
   ]
  }
 ],
 "metadata": {
  "kernelspec": {
   "display_name": "torch",
   "language": "python",
   "name": "python3"
  },
  "language_info": {
   "codemirror_mode": {
    "name": "ipython",
    "version": 3
   },
   "file_extension": ".py",
   "mimetype": "text/x-python",
   "name": "python",
   "nbconvert_exporter": "python",
   "pygments_lexer": "ipython3",
   "version": "3.12.9"
  }
 },
 "nbformat": 4,
 "nbformat_minor": 4
}
