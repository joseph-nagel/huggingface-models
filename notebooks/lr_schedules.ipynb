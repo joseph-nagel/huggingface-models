{
 "cells": [
  {
   "cell_type": "markdown",
   "id": "44f03606",
   "metadata": {},
   "source": [
    "# Learning rate schedules"
   ]
  },
  {
   "cell_type": "code",
   "execution_count": null,
   "id": "c00a368e",
   "metadata": {},
   "outputs": [],
   "source": [
    "%load_ext autoreload\n",
    "%autoreload 2\n",
    "%matplotlib inline\n",
    "\n",
    "import sys\n",
    "sys.path.append('..')"
   ]
  },
  {
   "cell_type": "code",
   "execution_count": null,
   "id": "9533ba86",
   "metadata": {},
   "outputs": [],
   "source": [
    "import matplotlib.pyplot as plt\n",
    "import numpy as np\n",
    "import torch\n",
    "import torch.nn as nn\n",
    "from transformers import (\n",
    "    get_cosine_schedule_with_warmup,\n",
    "    get_constant_schedule_with_warmup\n",
    ")"
   ]
  },
  {
   "cell_type": "code",
   "execution_count": null,
   "id": "c28e944b",
   "metadata": {},
   "outputs": [],
   "source": [
    "# create simple model\n",
    "model = nn.Linear(1, 1)\n",
    "\n",
    "# create optimizer\n",
    "lr = 1e-04\n",
    "\n",
    "optimizer = torch.optim.Adam(model.parameters(), lr=lr)"
   ]
  },
  {
   "cell_type": "code",
   "execution_count": null,
   "id": "834c4e61",
   "metadata": {},
   "outputs": [],
   "source": [
    "# create constant schedule with warmup\n",
    "constant_scheduler = get_constant_schedule_with_warmup(\n",
    "    optimizer,\n",
    "    num_warmup_steps=200\n",
    ")"
   ]
  },
  {
   "cell_type": "code",
   "execution_count": null,
   "id": "2ad01c4a",
   "metadata": {},
   "outputs": [],
   "source": [
    "# create cosine schedule with warmup\n",
    "cosine_scheduler = get_cosine_schedule_with_warmup(\n",
    "    optimizer,\n",
    "    num_warmup_steps=100,\n",
    "    num_training_steps=1000\n",
    ")"
   ]
  },
  {
   "cell_type": "code",
   "execution_count": null,
   "id": "5eeb839d",
   "metadata": {},
   "outputs": [],
   "source": [
    "# get LR scalings for plotting\n",
    "steps = np.arange(1000)\n",
    "\n",
    "constant_values = np.array([constant_scheduler.lr_lambdas[0](step) for step in steps])\n",
    "cosine_values = np.array([cosine_scheduler.lr_lambdas[0](step) for step in steps])\n",
    "\n",
    "# plot learning rate schedules\n",
    "fig, ax = plt.subplots(figsize=(6, 4))\n",
    "ax.plot(steps, constant_values, alpha=0.7, label='constant with warmup')\n",
    "ax.plot(steps, cosine_values, alpha=0.7, label='cosine with warmup')\n",
    "ax.set(xlabel='training step', ylabel='LR scaling factor')\n",
    "ax.set_xlim((steps.min(), steps.max()))\n",
    "ax.legend()\n",
    "ax.grid(visible=True, which='both', color='gray', alpha=0.2, linestyle='-')\n",
    "ax.set_axisbelow(True)\n",
    "fig.tight_layout()"
   ]
  }
 ],
 "metadata": {
  "kernelspec": {
   "display_name": "torch",
   "language": "python",
   "name": "python3"
  },
  "language_info": {
   "codemirror_mode": {
    "name": "ipython",
    "version": 3
   },
   "file_extension": ".py",
   "mimetype": "text/x-python",
   "name": "python",
   "nbconvert_exporter": "python",
   "pygments_lexer": "ipython3",
   "version": "3.12.9"
  }
 },
 "nbformat": 4,
 "nbformat_minor": 5
}
