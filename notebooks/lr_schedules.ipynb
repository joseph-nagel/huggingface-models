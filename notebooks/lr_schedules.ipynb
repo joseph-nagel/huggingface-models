{
 "cells": [
  {
   "cell_type": "markdown",
   "id": "44f03606",
   "metadata": {},
   "source": [
    "# Learning rate schedules"
   ]
  },
  {
   "cell_type": "code",
   "execution_count": null,
   "id": "c00a368e",
   "metadata": {},
   "outputs": [],
   "source": [
    "%load_ext autoreload\n",
    "%autoreload 2\n",
    "%matplotlib inline\n",
    "\n",
    "import sys\n",
    "sys.path.append('..')"
   ]
  },
  {
   "cell_type": "code",
   "execution_count": null,
   "id": "9533ba86",
   "metadata": {},
   "outputs": [],
   "source": [
    "import matplotlib.pyplot as plt\n",
    "import numpy as np\n",
    "import torch\n",
    "import torch.nn as nn\n",
    "from transformers import (\n",
    "    get_constant_schedule_with_warmup,\n",
    "    get_linear_schedule_with_warmup,\n",
    "    get_cosine_schedule_with_warmup,\n",
    "    get_cosine_with_hard_restarts_schedule_with_warmup\n",
    ")"
   ]
  },
  {
   "cell_type": "code",
   "execution_count": null,
   "id": "c28e944b",
   "metadata": {},
   "outputs": [],
   "source": [
    "# create simple model\n",
    "model = nn.Linear(1, 1)\n",
    "\n",
    "# create optimizer\n",
    "lr = 1e-04\n",
    "\n",
    "optimizer = torch.optim.Adam(model.parameters(), lr=lr)\n",
    "\n",
    "# set number of training steps\n",
    "num_training_steps = 1000"
   ]
  },
  {
   "cell_type": "code",
   "execution_count": null,
   "id": "5be86acd",
   "metadata": {},
   "outputs": [],
   "source": [
    "# create LR schedulers\n",
    "schedulers = {\n",
    "    'constant with warmup': get_constant_schedule_with_warmup(\n",
    "        optimizer,\n",
    "        num_warmup_steps=200\n",
    "    ),\n",
    "    'linear with warmup': get_linear_schedule_with_warmup(\n",
    "        optimizer,\n",
    "        num_warmup_steps=300,\n",
    "        num_training_steps=num_training_steps\n",
    "    ),\n",
    "    'cosine with warmup': get_cosine_schedule_with_warmup(\n",
    "        optimizer,\n",
    "        num_warmup_steps=100,\n",
    "        num_training_steps=num_training_steps\n",
    "    ),\n",
    "    'cosine with hard restarts and warmup': get_cosine_with_hard_restarts_schedule_with_warmup(\n",
    "        optimizer,\n",
    "        num_warmup_steps=400,\n",
    "        num_training_steps=num_training_steps,\n",
    "        num_cycles=2\n",
    "    )\n",
    "}"
   ]
  },
  {
   "cell_type": "code",
   "execution_count": null,
   "id": "4629b1ae",
   "metadata": {},
   "outputs": [],
   "source": [
    "# calculate LR scaling factors\n",
    "steps = np.arange(num_training_steps)\n",
    "\n",
    "lr_scalings = {\n",
    "    key: np.array([sched.lr_lambdas[0](step) for step in steps])\n",
    "    for key, sched in schedulers.items()\n",
    "}"
   ]
  },
  {
   "cell_type": "code",
   "execution_count": null,
   "id": "5eeb839d",
   "metadata": {},
   "outputs": [],
   "source": [
    "# plot LR schedules\n",
    "fig, ax = plt.subplots(figsize=(6, 4))\n",
    "for k, v in lr_scalings.items():\n",
    "    ax.plot(steps, v, alpha=0.7, label=k)\n",
    "ax.set(xlabel='training step', ylabel='LR scaling factor')\n",
    "ax.set_xlim((steps.min(), steps.max()))\n",
    "ax.legend()\n",
    "ax.grid(visible=True, which='both', color='gray', alpha=0.2, linestyle='-')\n",
    "ax.set_axisbelow(True)\n",
    "fig.tight_layout()"
   ]
  }
 ],
 "metadata": {
  "kernelspec": {
   "display_name": "torch",
   "language": "python",
   "name": "python3"
  },
  "language_info": {
   "codemirror_mode": {
    "name": "ipython",
    "version": 3
   },
   "file_extension": ".py",
   "mimetype": "text/x-python",
   "name": "python",
   "nbconvert_exporter": "python",
   "pygments_lexer": "ipython3",
   "version": "3.12.9"
  }
 },
 "nbformat": 4,
 "nbformat_minor": 5
}
