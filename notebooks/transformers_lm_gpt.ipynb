{
 "cells": [
  {
   "cell_type": "markdown",
   "metadata": {},
   "source": [
    "# transformers: Autoregressive GPT-like LMs"
   ]
  },
  {
   "cell_type": "code",
   "execution_count": null,
   "metadata": {},
   "outputs": [],
   "source": [
    "import torch\n",
    "from transformers import (\n",
    "    set_seed,\n",
    "    pipeline,\n",
    "    AutoTokenizer,\n",
    "    AutoModelForCausalLM # autoregressive models (GPT-like, decoder-only)\n",
    ")"
   ]
  },
  {
   "cell_type": "code",
   "execution_count": null,
   "metadata": {},
   "outputs": [],
   "source": [
    "# set random seed manually\n",
    "set_seed(123)"
   ]
  },
  {
   "cell_type": "markdown",
   "metadata": {},
   "source": [
    "## Load model"
   ]
  },
  {
   "cell_type": "code",
   "execution_count": null,
   "metadata": {},
   "outputs": [],
   "source": [
    "# set model name\n",
    "model_name = 'microsoft/DialoGPT-medium'\n",
    "# model_name = 'distilbert/distilgpt2'"
   ]
  },
  {
   "cell_type": "code",
   "execution_count": null,
   "metadata": {},
   "outputs": [],
   "source": [
    "# create tokenizer\n",
    "tokenizer = AutoTokenizer.from_pretrained(model_name)\n",
    "\n",
    "# set padding (for batched inputs)\n",
    "tokenizer.padding_side = 'left' # use left padding (not default)\n",
    "tokenizer.pad_token = tokenizer.eos_token # set pad token\n",
    "\n",
    "print(tokenizer)"
   ]
  },
  {
   "cell_type": "code",
   "execution_count": null,
   "metadata": {},
   "outputs": [],
   "source": [
    "# load model\n",
    "model = AutoModelForCausalLM.from_pretrained(\n",
    "    model_name,\n",
    "    device_map='cpu',\n",
    "    torch_dtype=torch.bfloat16 # use brain floating point format\n",
    "    # load_in_4bit=True # use quantization technique\n",
    ")\n",
    "model = model.eval()\n",
    "\n",
    "print('Model device: {}'.format(model.device))\n",
    "print('Model dtype: {}'.format(model.dtype))\n",
    "print('Memory footprint: {:.2f} GiB'.format(model.get_memory_footprint() * 1e-9))\n",
    "\n",
    "print(model)"
   ]
  },
  {
   "cell_type": "code",
   "execution_count": null,
   "metadata": {},
   "outputs": [],
   "source": [
    "# load pipeline (tokenizer and model)\n",
    "pipe = pipeline(\n",
    "    'text-generation',\n",
    "    model=model_name,\n",
    "    device_map='cpu',\n",
    "    torch_dtype=torch.bfloat16\n",
    ")\n",
    "\n",
    "# use left padding for batched inputs with different lengths\n",
    "pipe.tokenizer.padding_side = 'left'\n",
    "\n",
    "print('Model device: {}'.format(pipe.device))\n",
    "print('Model dtype: {}'.format(pipe.model.dtype))\n",
    "print('Memory footprint: {:.2f} GiB'.format(pipe.model.get_memory_footprint() * 1e-9))"
   ]
  },
  {
   "cell_type": "markdown",
   "metadata": {},
   "source": [
    "## Run pipeline"
   ]
  },
  {
   "cell_type": "code",
   "execution_count": null,
   "metadata": {},
   "outputs": [],
   "source": [
    "# initialize chat\n",
    "chat = [\n",
    "    {\n",
    "        'role': 'system',\n",
    "        'content': 'You are a chatbot equipped with nearly endless wisdom.'\n",
    "    },\n",
    "    {\n",
    "        'role': 'user',\n",
    "        'content': 'Hey, can you tell me any fun things to do in Munich?'\n",
    "    }\n",
    "]\n",
    "\n",
    "# run pipeline\n",
    "response = pipe(\n",
    "    chat,\n",
    "    max_new_tokens=512, # set max. number of newly generated tokens\n",
    "    do_sample=True, # turn on sampling\n",
    "    temperature=1.0, # set softmax temperature\n",
    "    pad_token_id=tokenizer.eos_token_id # set pad token\n",
    ")\n",
    "\n",
    "# note that the generated response contains the entire chat\n",
    "for chat_item in response[0]['generated_text']:\n",
    "    print(chat_item)"
   ]
  },
  {
   "cell_type": "code",
   "execution_count": null,
   "metadata": {},
   "outputs": [],
   "source": [
    "# append chat\n",
    "chat = response[0]['generated_text']\n",
    "\n",
    "chat.append(\n",
    "    {'role': 'user', 'content': 'Wait, what?'}\n",
    ")\n",
    "\n",
    "# run pipeline\n",
    "response = pipe(\n",
    "    chat,\n",
    "    max_new_tokens=512,\n",
    "    do_sample=True,\n",
    "    temperature=1.0,\n",
    "    pad_token_id=tokenizer.eos_token_id\n",
    ")\n",
    "\n",
    "for chat_item in response[0]['generated_text']:\n",
    "    print(chat_item)"
   ]
  },
  {
   "cell_type": "markdown",
   "metadata": {},
   "source": [
    "## Run model"
   ]
  },
  {
   "cell_type": "code",
   "execution_count": null,
   "metadata": {},
   "outputs": [],
   "source": [
    "# create prompts\n",
    "prompt = [\n",
    "    'How does it feel to be a chatbot?',\n",
    "    'A list of colors: red, blue'\n",
    "]\n",
    "\n",
    "# tokenize\n",
    "model_input = tokenizer(\n",
    "    prompt,\n",
    "    add_special_tokens=True, # add special tokens at beginning/end of sentence (not supported by all tokenizers)\n",
    "    padding=True, # turn on padding (for batched inputs)\n",
    "    return_tensors='pt'\n",
    ")\n",
    "\n",
    "# transfer to device\n",
    "# model_input = model_input.to(model.device)\n",
    "# model_input = {key: tensor.to(model.device) for key, tensor in model_input.items()}\n",
    "\n",
    "print(model_input)"
   ]
  },
  {
   "cell_type": "code",
   "execution_count": null,
   "metadata": {},
   "outputs": [],
   "source": [
    "# print tokens\n",
    "for input_ids in model_input['input_ids']:\n",
    "    print(tokenizer.convert_ids_to_tokens(input_ids))"
   ]
  },
  {
   "cell_type": "code",
   "execution_count": null,
   "metadata": {},
   "outputs": [],
   "source": [
    "# generate response\n",
    "gen_ids = model.generate(\n",
    "    **model_input,\n",
    "    max_new_tokens=100, # set max. number of newly generated tokens\n",
    "    do_sample=True, # turn on sampling\n",
    "    temperature=1.0, # set softmax temperature\n",
    "    pad_token_id=tokenizer.eos_token_id # set pad token\n",
    ")\n",
    "\n",
    "# decode\n",
    "# gen = tokenizer.decode(gen_ids[0], skip_special_tokens=True)\n",
    "gen = tokenizer.batch_decode(gen_ids, skip_special_tokens=True)\n",
    "\n",
    "# note that the generated output contains the input\n",
    "print(gen_ids)\n",
    "print(gen)"
   ]
  },
  {
   "cell_type": "code",
   "execution_count": null,
   "metadata": {},
   "outputs": [],
   "source": [
    "# extract features\n",
    "transformer_out = model.transformer(**model_input)\n",
    "last_hidden_state = transformer_out.last_hidden_state # (batch, sequence, features)\n",
    "\n",
    "print(f'Features shape: {last_hidden_state.shape}')"
   ]
  },
  {
   "cell_type": "code",
   "execution_count": null,
   "metadata": {},
   "outputs": [],
   "source": [
    "# predict logits\n",
    "model_out = model(**model_input)\n",
    "logits = model_out.logits # (batch, sequence, tokens)\n",
    "\n",
    "print(f'Logits shape: {logits.shape}')"
   ]
  }
 ],
 "metadata": {
  "kernelspec": {
   "display_name": "Python 3 (ipykernel)",
   "language": "python",
   "name": "python3"
  },
  "language_info": {
   "codemirror_mode": {
    "name": "ipython",
    "version": 3
   },
   "file_extension": ".py",
   "mimetype": "text/x-python",
   "name": "python",
   "nbconvert_exporter": "python",
   "pygments_lexer": "ipython3",
   "version": "3.12.8"
  }
 },
 "nbformat": 4,
 "nbformat_minor": 4
}
