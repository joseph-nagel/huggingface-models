{
 "cells": [
  {
   "cell_type": "markdown",
   "metadata": {},
   "source": [
    "# transformers: Transfer learning"
   ]
  },
  {
   "cell_type": "code",
   "execution_count": null,
   "metadata": {},
   "outputs": [],
   "source": [
    "%load_ext autoreload\n",
    "%autoreload 2\n",
    "%matplotlib inline\n",
    "\n",
    "import sys\n",
    "sys.path.append('..')"
   ]
  },
  {
   "cell_type": "code",
   "execution_count": null,
   "metadata": {},
   "outputs": [],
   "source": [
    "import matplotlib.pyplot as plt\n",
    "import torch\n",
    "from lightning.pytorch import seed_everything\n",
    "\n",
    "from hf_utils import (\n",
    "    CIFAR10DataModule,\n",
    "    LightningImgClassif\n",
    ")"
   ]
  },
  {
   "cell_type": "code",
   "execution_count": null,
   "metadata": {},
   "outputs": [],
   "source": [
    "# set random seeds manually\n",
    "_ = seed_everything(123)"
   ]
  },
  {
   "cell_type": "markdown",
   "metadata": {},
   "source": [
    "## Load data"
   ]
  },
  {
   "cell_type": "code",
   "execution_count": null,
   "metadata": {},
   "outputs": [],
   "source": [
    "# import data\n",
    "cifar = CIFAR10DataModule(\n",
    "    data_dir='../run/data/',\n",
    "    img_size=(224, 224),\n",
    "    img_mean=(0.485, 0.456, 0.406),\n",
    "    img_std=(0.229, 0.224, 0.225),\n",
    "    batch_size=32,\n",
    "    num_workers=0\n",
    ")\n",
    "\n",
    "cifar.prepare_data() # download data if not yet done\n",
    "cifar.setup(stage='test') # create test set"
   ]
  },
  {
   "cell_type": "code",
   "execution_count": null,
   "metadata": {},
   "outputs": [],
   "source": [
    "# get batch\n",
    "test_loader = cifar.test_dataloader()\n",
    "batch = next(iter(test_loader))\n",
    "\n",
    "x_batch = batch['pixel_values']\n",
    "y_batch = batch['labels']"
   ]
  },
  {
   "cell_type": "code",
   "execution_count": null,
   "metadata": {},
   "outputs": [],
   "source": [
    "# show example images\n",
    "fig, axes = plt.subplots(nrows=4, ncols=4, figsize=(5, 5))\n",
    "for idx, ax in enumerate(axes.ravel()):\n",
    "    image = cifar.renormalize(x_batch[idx]).permute(1, 2, 0).numpy()\n",
    "    label = cifar.label_names[y_batch[idx].item()]\n",
    "    ax.imshow(image)\n",
    "    ax.set_title(label)\n",
    "    ax.set(xticks=[], yticks=[], xlabel='', ylabel='')\n",
    "fig.tight_layout()"
   ]
  },
  {
   "cell_type": "markdown",
   "metadata": {},
   "source": [
    "## Load model"
   ]
  },
  {
   "cell_type": "code",
   "execution_count": null,
   "metadata": {},
   "outputs": [],
   "source": [
    "# load model from checkpoint\n",
    "ckpt_file = f'../run/transfer/version_0/checkpoints/last.ckpt'\n",
    "\n",
    "device = torch.device('cuda:0' if torch.cuda.is_available() else 'cpu')\n",
    "\n",
    "model = LightningImgClassif.load_from_checkpoint(ckpt_file)\n",
    "\n",
    "model = model.eval()\n",
    "model = model.to(device)"
   ]
  },
  {
   "cell_type": "markdown",
   "metadata": {},
   "source": [
    "## Run model"
   ]
  },
  {
   "cell_type": "code",
   "execution_count": null,
   "metadata": {},
   "outputs": [],
   "source": [
    "# get batch of data\n",
    "test_loader = cifar.test_dataloader()\n",
    "batch = next(iter(test_loader))\n",
    "\n",
    "x_batch = batch['pixel_values']\n",
    "y_batch = batch['labels']"
   ]
  },
  {
   "cell_type": "code",
   "execution_count": null,
   "metadata": {},
   "outputs": [],
   "source": [
    "# run model\n",
    "with torch.no_grad():\n",
    "    y_logits = model(x_batch)\n",
    "\n",
    "print(f'Images shape: {x_batch.shape}')\n",
    "print(f'Logits shape: {y_logits.shape}')"
   ]
  },
  {
   "cell_type": "code",
   "execution_count": null,
   "metadata": {},
   "outputs": [],
   "source": [
    "# get predicted labels\n",
    "label_ids = y_logits.argmax(dim=-1)\n",
    "labels = [cifar.id2label[lidx.item()] for lidx in label_ids]\n",
    "\n",
    "print(labels)"
   ]
  },
  {
   "cell_type": "code",
   "execution_count": null,
   "metadata": {},
   "outputs": [],
   "source": [
    "# show predictions\n",
    "fig, axes = plt.subplots(nrows=4, ncols=4, figsize=(5, 5))\n",
    "for idx, ax in enumerate(axes.ravel()):\n",
    "    image = cifar.renormalize(x_batch[idx]).permute(1, 2, 0).numpy()\n",
    "    label = labels[idx]\n",
    "    ax.imshow(image)\n",
    "    ax.set_title(label)\n",
    "    ax.set(xticks=[], yticks=[], xlabel='', ylabel='')\n",
    "fig.suptitle('Predictions')\n",
    "fig.tight_layout()"
   ]
  }
 ],
 "metadata": {
  "kernelspec": {
   "display_name": "Python 3 (ipykernel)",
   "language": "python",
   "name": "python3"
  },
  "language_info": {
   "codemirror_mode": {
    "name": "ipython",
    "version": 3
   },
   "file_extension": ".py",
   "mimetype": "text/x-python",
   "name": "python",
   "nbconvert_exporter": "python",
   "pygments_lexer": "ipython3",
   "version": "3.12.7"
  }
 },
 "nbformat": 4,
 "nbformat_minor": 4
}
