{
 "cells": [
  {
   "cell_type": "markdown",
   "metadata": {},
   "source": [
    "# transformers: Bidirectional BERT-like LMs"
   ]
  },
  {
   "cell_type": "code",
   "execution_count": null,
   "metadata": {},
   "outputs": [],
   "source": [
    "import torch\n",
    "from transformers import (\n",
    "    set_seed,\n",
    "    AutoTokenizer,\n",
    "    AutoModel, # feature extractors (without task-specific head)\n",
    "    AutoModelForSequenceClassification # sequence classification (with final head)\n",
    "    # AutoModelForMaskedLM # bidirectional models (BERT-like, encoder-only)\n",
    ")"
   ]
  },
  {
   "cell_type": "code",
   "execution_count": null,
   "metadata": {},
   "outputs": [],
   "source": [
    "# set random seed\n",
    "set_seed(123)"
   ]
  },
  {
   "cell_type": "markdown",
   "metadata": {},
   "source": [
    "## Load base model"
   ]
  },
  {
   "cell_type": "code",
   "execution_count": null,
   "metadata": {},
   "outputs": [],
   "source": [
    "# set model name\n",
    "base_model_name = 'distilbert/distilbert-base-uncased'"
   ]
  },
  {
   "cell_type": "code",
   "execution_count": null,
   "metadata": {},
   "outputs": [],
   "source": [
    "# set device\n",
    "device_map = 'cuda:0' if torch.cuda.is_available() else 'cpu'"
   ]
  },
  {
   "cell_type": "code",
   "execution_count": null,
   "metadata": {},
   "outputs": [],
   "source": [
    "# create tokenizer\n",
    "base_tokenizer = AutoTokenizer.from_pretrained(base_model_name)\n",
    "\n",
    "print(base_tokenizer)"
   ]
  },
  {
   "cell_type": "code",
   "execution_count": null,
   "metadata": {},
   "outputs": [],
   "source": [
    "# load model\n",
    "base_model = AutoModel.from_pretrained(\n",
    "    base_model_name,\n",
    "    device_map=device_map,\n",
    "    torch_dtype=torch.bfloat16 # use brain floating point format\n",
    ")\n",
    "\n",
    "base_model = base_model.eval()\n",
    "\n",
    "print('Model device: {}'.format(base_model.device))\n",
    "print('Model dtype: {}'.format(base_model.dtype))\n",
    "print('Memory footprint: {:.2f} GiB'.format(base_model.get_memory_footprint() * 1e-9))\n",
    "\n",
    "print(base_model)"
   ]
  },
  {
   "cell_type": "markdown",
   "metadata": {},
   "source": [
    "## Compute embeddings"
   ]
  },
  {
   "cell_type": "code",
   "execution_count": null,
   "metadata": {},
   "outputs": [],
   "source": [
    "# create raw input\n",
    "raw_input = [\n",
    "    'A rabbit goes into the supermarket.',\n",
    "    'One, two, three, four, five.'\n",
    "]\n",
    "\n",
    "# tokenize\n",
    "model_input = base_tokenizer(\n",
    "    raw_input,\n",
    "    add_special_tokens=True, # add CLS token at the beginning\n",
    "    padding=True, # turn on padding (for batched inputs)\n",
    "    truncation=True, # turn on truncation (to max. length)\n",
    "    return_tensors='pt' # return PyTorch tensor\n",
    ")\n",
    "\n",
    "# transfer to device\n",
    "model_input = model_input.to(base_model.device)\n",
    "\n",
    "print(model_input)"
   ]
  },
  {
   "cell_type": "code",
   "execution_count": null,
   "metadata": {},
   "outputs": [],
   "source": [
    "# print tokens\n",
    "for input_ids in model_input['input_ids']:\n",
    "    print(base_tokenizer.convert_ids_to_tokens(input_ids))"
   ]
  },
  {
   "cell_type": "code",
   "execution_count": null,
   "metadata": {},
   "outputs": [],
   "source": [
    "# compute embeddings\n",
    "base_out = base_model(**model_input)\n",
    "last_hidden_state = base_out.last_hidden_state # (batch, sequence, features)\n",
    "\n",
    "print(f'Embeddings shape: {last_hidden_state.shape}')"
   ]
  },
  {
   "cell_type": "markdown",
   "metadata": {},
   "source": [
    "## Load classifier"
   ]
  },
  {
   "cell_type": "code",
   "execution_count": null,
   "metadata": {},
   "outputs": [],
   "source": [
    "# set model name\n",
    "classif_model_name = 'distilbert/distilbert-base-uncased-finetuned-sst-2-english'"
   ]
  },
  {
   "cell_type": "code",
   "execution_count": null,
   "metadata": {},
   "outputs": [],
   "source": [
    "# create tokenizer\n",
    "classif_tokenizer = AutoTokenizer.from_pretrained(classif_model_name)\n",
    "\n",
    "print(classif_tokenizer)"
   ]
  },
  {
   "cell_type": "code",
   "execution_count": null,
   "metadata": {},
   "outputs": [],
   "source": [
    "# load model\n",
    "classif_model = AutoModelForSequenceClassification.from_pretrained(\n",
    "    classif_model_name,\n",
    "    device_map=device_map,\n",
    "    torch_dtype=torch.bfloat16 # use brain floating point format\n",
    ")\n",
    "\n",
    "classif_model = classif_model.eval()\n",
    "\n",
    "print('Model device: {}'.format(classif_model.device))\n",
    "print('Model dtype: {}'.format(classif_model.dtype))\n",
    "print('Memory footprint: {:.2f} GiB'.format(classif_model.get_memory_footprint() * 1e-9))\n",
    "\n",
    "print(classif_model)"
   ]
  },
  {
   "cell_type": "markdown",
   "metadata": {},
   "source": [
    "## Classify sequences"
   ]
  },
  {
   "cell_type": "code",
   "execution_count": null,
   "metadata": {},
   "outputs": [],
   "source": [
    "# create raw input\n",
    "raw_input = [\n",
    "    'This is great.',\n",
    "    'This is awful.'\n",
    "]\n",
    "\n",
    "# tokenize\n",
    "model_input = classif_tokenizer(\n",
    "    raw_input,\n",
    "    add_special_tokens=True, # add CLS token at the beginning\n",
    "    padding=True, # turn on padding (for batched inputs)\n",
    "    truncation=True, # turn on truncation (to max. length)\n",
    "    return_tensors='pt' # return PyTorch tensor\n",
    ")\n",
    "\n",
    "# transfer to device\n",
    "model_input = model_input.to(classif_model.device)\n",
    "\n",
    "print(model_input)"
   ]
  },
  {
   "cell_type": "code",
   "execution_count": null,
   "metadata": {},
   "outputs": [],
   "source": [
    "# print tokens\n",
    "for input_ids in model_input['input_ids']:\n",
    "    print(classif_tokenizer.convert_ids_to_tokens(input_ids))"
   ]
  },
  {
   "cell_type": "code",
   "execution_count": null,
   "metadata": {},
   "outputs": [],
   "source": [
    "# predict logits\n",
    "classif_out = classif_model(**model_input)\n",
    "logits = classif_out.logits # (batch, labels)\n",
    "\n",
    "print(f'Logits shape: {logits.shape}')"
   ]
  },
  {
   "cell_type": "code",
   "execution_count": null,
   "metadata": {},
   "outputs": [],
   "source": [
    "# get predicted labels\n",
    "label_ids = logits.argmax(dim=-1)\n",
    "labels = [classif_model.config.id2label[lidx.item()] for lidx in label_ids]\n",
    "\n",
    "print(labels)"
   ]
  }
 ],
 "metadata": {
  "kernelspec": {
   "display_name": "Python 3 (ipykernel)",
   "language": "python",
   "name": "python3"
  },
  "language_info": {
   "codemirror_mode": {
    "name": "ipython",
    "version": 3
   },
   "file_extension": ".py",
   "mimetype": "text/x-python",
   "name": "python",
   "nbconvert_exporter": "python",
   "pygments_lexer": "ipython3",
   "version": "3.12.8"
  }
 },
 "nbformat": 4,
 "nbformat_minor": 4
}
