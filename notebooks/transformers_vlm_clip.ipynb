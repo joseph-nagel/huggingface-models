{
 "cells": [
  {
   "cell_type": "markdown",
   "id": "57563e58",
   "metadata": {},
   "source": [
    "# transformers: CLIP"
   ]
  },
  {
   "cell_type": "code",
   "execution_count": null,
   "id": "902f1581",
   "metadata": {},
   "outputs": [],
   "source": [
    "%matplotlib inline"
   ]
  },
  {
   "cell_type": "code",
   "execution_count": null,
   "id": "8cc9fd86",
   "metadata": {},
   "outputs": [],
   "source": [
    "import matplotlib.pyplot as plt\n",
    "import numpy as np\n",
    "import torch\n",
    "import requests\n",
    "from PIL import Image\n",
    "from transformers import (\n",
    "    pipeline,\n",
    "    CLIPTokenizer,\n",
    "    CLIPImageProcessor,\n",
    "    CLIPTextModel,\n",
    "    CLIPVisionModel,\n",
    "    CLIPProcessor,\n",
    "    CLIPModel\n",
    "    # AutoProcessor,\n",
    "    # AutoModel\n",
    ")"
   ]
  },
  {
   "cell_type": "markdown",
   "id": "cedd4b64",
   "metadata": {},
   "source": [
    "## Load image"
   ]
  },
  {
   "cell_type": "code",
   "execution_count": null,
   "id": "5e975f24",
   "metadata": {},
   "outputs": [],
   "source": [
    "# load image\n",
    "url = 'http://images.cocodataset.org/val2017/000000039769.jpg'\n",
    "\n",
    "image = Image.open(requests.get(url, stream=True).raw)"
   ]
  },
  {
   "cell_type": "code",
   "execution_count": null,
   "id": "eed8ca2f",
   "metadata": {},
   "outputs": [],
   "source": [
    "# show image\n",
    "fig, ax = plt.subplots(figsize=(6, 4))\n",
    "ax.imshow(np.asarray(image))\n",
    "ax.set_aspect('equal', adjustable='box')\n",
    "fig.tight_layout()"
   ]
  },
  {
   "cell_type": "markdown",
   "id": "0230510c",
   "metadata": {},
   "source": [
    "## Load model"
   ]
  },
  {
   "cell_type": "code",
   "execution_count": null,
   "id": "2dae38fc",
   "metadata": {},
   "outputs": [],
   "source": [
    "# set model name\n",
    "model_name = 'openai/clip-vit-base-patch32'  # smaller\n",
    "# model_name = 'openai/clip-vit-large-patch14'  # larger"
   ]
  },
  {
   "cell_type": "code",
   "execution_count": null,
   "id": "d84be8df",
   "metadata": {},
   "outputs": [],
   "source": [
    "# create text and image preprocessors\n",
    "processor = CLIPProcessor.from_pretrained(model_name)\n",
    "\n",
    "# load model\n",
    "model = CLIPModel.from_pretrained(\n",
    "    model_name,\n",
    "    attn_implementation='sdpa',  # this is the default\n",
    "    torch_dtype=torch.bfloat16,\n",
    "    device_map='auto'\n",
    ")\n",
    "model = model.eval()\n",
    "\n",
    "print(f'Model device: {model.device}')\n",
    "print(f'Model dtype: {model.dtype}')\n",
    "print('Memory footprint: {:.2f} GiB'.format(model.get_memory_footprint() * 1e-9))\n",
    "\n",
    "print(f'\\nEmbedding dim.: {model.config.projection_dim}')"
   ]
  },
  {
   "cell_type": "code",
   "execution_count": null,
   "id": "dc16dd85",
   "metadata": {},
   "outputs": [],
   "source": [
    "# load pipeline (preprocessors, model and postprocessor)\n",
    "pipe = pipeline(\n",
    "   task='zero-shot-image-classification',\n",
    "   model=model_name,\n",
    "   torch_dtype=torch.bfloat16,\n",
    "   device_map='auto'\n",
    ")"
   ]
  },
  {
   "cell_type": "markdown",
   "id": "d5f62fe7",
   "metadata": {},
   "source": [
    "## Run model"
   ]
  },
  {
   "cell_type": "code",
   "execution_count": null,
   "id": "7476616b",
   "metadata": {},
   "outputs": [],
   "source": [
    "# set candidate captions\n",
    "candidate_labels = ['cat', 'dog', 'car']\n",
    "candidate_captions = [f'a photo of a {label}' for label in candidate_labels]\n",
    "\n",
    "# preprocess inputs\n",
    "inputs = processor(\n",
    "    text=candidate_captions,\n",
    "    images=image,\n",
    "    return_tensors='pt',\n",
    "    padding=True\n",
    ")\n",
    "\n",
    "print(f'Input IDs shape: {inputs['input_ids'].shape}')\n",
    "print(f'Pixel values shape: {inputs['pixel_values'].shape}')"
   ]
  },
  {
   "cell_type": "code",
   "execution_count": null,
   "id": "35ee7a8c",
   "metadata": {},
   "outputs": [],
   "source": [
    "# run model\n",
    "with torch.no_grad():\n",
    "    outputs = model(**inputs.to(model.device))\n",
    "\n",
    "logits_per_image = outputs.logits_per_image.cpu()  # get image-text similarity scores\n",
    "probs_per_image = logits_per_image.softmax(dim=-1)  # get label probabilities\n",
    "\n",
    "print(f'Logits shape: {logits_per_image.shape}')"
   ]
  },
  {
   "cell_type": "code",
   "execution_count": null,
   "id": "a50e4718",
   "metadata": {},
   "outputs": [],
   "source": [
    "# get predicted labels\n",
    "top_idx = logits_per_image.argmax(dim=-1)\n",
    "\n",
    "top_caption = candidate_captions[top_idx]\n",
    "top_label = candidate_labels[top_idx]\n",
    "\n",
    "top_prob = probs_per_image[0, top_idx].item()\n",
    "\n",
    "print(f'Top prediction: {top_label} ({top_prob:.2f})')"
   ]
  },
  {
   "cell_type": "markdown",
   "id": "6b3628d3",
   "metadata": {},
   "source": [
    "## Run pipeline"
   ]
  },
  {
   "cell_type": "code",
   "execution_count": null,
   "id": "6b60b395",
   "metadata": {},
   "outputs": [],
   "source": [
    "# run pipeline\n",
    "results = pipe(\n",
    "    image=image,\n",
    "    candidate_labels=candidate_labels\n",
    ")\n",
    "\n",
    "print(results)"
   ]
  },
  {
   "cell_type": "markdown",
   "id": "34f90619",
   "metadata": {},
   "source": [
    "## Run text model"
   ]
  },
  {
   "cell_type": "code",
   "execution_count": null,
   "id": "c79c7d23",
   "metadata": {},
   "outputs": [],
   "source": [
    "# create tokenizer\n",
    "tokenizer = CLIPTokenizer.from_pretrained(model_name)\n",
    "\n",
    "# initialize text model\n",
    "text_model = CLIPTextModel.from_pretrained(\n",
    "    model_name,\n",
    "    torch_dtype=torch.bfloat16,\n",
    "    device_map='auto'\n",
    ")\n",
    "\n",
    "print(f'Padding side: {tokenizer.padding_side}')\n",
    "print(f'Pad token: {tokenizer.pad_token}')"
   ]
  },
  {
   "cell_type": "code",
   "execution_count": null,
   "id": "7a5f8432",
   "metadata": {},
   "outputs": [],
   "source": [
    "# tokenize\n",
    "text_inputs = tokenizer(candidate_captions, return_tensors='pt')\n",
    "\n",
    "print(text_inputs)"
   ]
  },
  {
   "cell_type": "code",
   "execution_count": null,
   "id": "a80383ee",
   "metadata": {},
   "outputs": [],
   "source": [
    "# print tokens\n",
    "for input_ids in text_inputs['input_ids']:\n",
    "    print(tokenizer.decode(input_ids))\n",
    "    # print(tokenizer.convert_ids_to_tokens(input_ids))"
   ]
  },
  {
   "cell_type": "code",
   "execution_count": null,
   "id": "5298e5a5",
   "metadata": {},
   "outputs": [],
   "source": [
    "# run text model\n",
    "with torch.no_grad():\n",
    "    text_out = text_model(**text_inputs.to(text_model.device))\n",
    "\n",
    "last_hidden_state = text_out.last_hidden_state.cpu()  # (batch, sequence, features)\n",
    "pooler_output = text_out.pooler_output.cpu()  # (batch, features)\n",
    "\n",
    "print(f'Last hidden state shape: {last_hidden_state.shape}')\n",
    "print(f'Pooler output shape: {pooler_output.shape}')"
   ]
  },
  {
   "cell_type": "code",
   "execution_count": null,
   "id": "d121bd97",
   "metadata": {},
   "outputs": [],
   "source": [
    "# check that pooler output is just the last token of the last hidden state\n",
    "torch.equal(last_hidden_state[:, -1], pooler_output)"
   ]
  },
  {
   "cell_type": "markdown",
   "id": "05dbfe02",
   "metadata": {},
   "source": [
    "## Run vision model"
   ]
  },
  {
   "cell_type": "code",
   "execution_count": null,
   "id": "6028b17c",
   "metadata": {},
   "outputs": [],
   "source": [
    "# create image processor\n",
    "image_processor = CLIPImageProcessor.from_pretrained(model_name)\n",
    "\n",
    "# initialize image model\n",
    "image_model = CLIPVisionModel.from_pretrained(\n",
    "    model_name,\n",
    "    torch_dtype=torch.bfloat16,\n",
    "    device_map='auto'\n",
    ")"
   ]
  },
  {
   "cell_type": "code",
   "execution_count": null,
   "id": "82dc16a0",
   "metadata": {},
   "outputs": [],
   "source": [
    "# preprocess images\n",
    "image_inputs = image_processor(image, return_tensors='pt')\n",
    "\n",
    "print(f'Pixel values shape: {image_inputs['pixel_values'].shape}')"
   ]
  },
  {
   "cell_type": "code",
   "execution_count": null,
   "id": "410b02f9",
   "metadata": {},
   "outputs": [],
   "source": [
    "# run image model\n",
    "with torch.no_grad():\n",
    "    image_out = image_model(**image_inputs.to(image_model.device))\n",
    "\n",
    "last_hidden_state = image_out.last_hidden_state.cpu()  # (batch, sequence, features)\n",
    "pooler_output = image_out.pooler_output.cpu()  # (batch, features)\n",
    "\n",
    "print(f'Last hidden state shape: {last_hidden_state.shape}')  # includes an additional classification token\n",
    "print(f'Pooler output shape: {pooler_output.shape}')"
   ]
  },
  {
   "cell_type": "code",
   "execution_count": null,
   "id": "489b6f90",
   "metadata": {},
   "outputs": [],
   "source": [
    "# check that pooler output is the normalized first token\n",
    "torch.allclose(image_model.vision_model.post_layernorm(last_hidden_state[:, 0]), pooler_output)"
   ]
  }
 ],
 "metadata": {
  "kernelspec": {
   "display_name": "torch",
   "language": "python",
   "name": "python3"
  },
  "language_info": {
   "codemirror_mode": {
    "name": "ipython",
    "version": 3
   },
   "file_extension": ".py",
   "mimetype": "text/x-python",
   "name": "python",
   "nbconvert_exporter": "python",
   "pygments_lexer": "ipython3",
   "version": "3.12.9"
  }
 },
 "nbformat": 4,
 "nbformat_minor": 5
}
