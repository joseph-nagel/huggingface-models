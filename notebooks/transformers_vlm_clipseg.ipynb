{
 "cells": [
  {
   "cell_type": "markdown",
   "id": "57563e58",
   "metadata": {},
   "source": [
    "# transformers: CLIPSeg for semantic segmentation"
   ]
  },
  {
   "cell_type": "code",
   "execution_count": null,
   "id": "902f1581",
   "metadata": {},
   "outputs": [],
   "source": [
    "%matplotlib inline"
   ]
  },
  {
   "cell_type": "code",
   "execution_count": null,
   "id": "8cc9fd86",
   "metadata": {},
   "outputs": [],
   "source": [
    "import matplotlib.pyplot as plt\n",
    "import numpy as np\n",
    "import torch\n",
    "import requests\n",
    "from PIL import Image\n",
    "from transformers import CLIPSegProcessor, CLIPSegForImageSegmentation"
   ]
  },
  {
   "cell_type": "markdown",
   "id": "cedd4b64",
   "metadata": {},
   "source": [
    "## Load image"
   ]
  },
  {
   "cell_type": "code",
   "execution_count": null,
   "id": "5e975f24",
   "metadata": {},
   "outputs": [],
   "source": [
    "# load image\n",
    "url = 'http://images.cocodataset.org/val2017/000000039769.jpg'\n",
    "\n",
    "image = Image.open(requests.get(url, stream=True).raw)"
   ]
  },
  {
   "cell_type": "code",
   "execution_count": null,
   "id": "eed8ca2f",
   "metadata": {},
   "outputs": [],
   "source": [
    "# show image\n",
    "fig, ax = plt.subplots(figsize=(6, 4))\n",
    "ax.imshow(np.asarray(image))\n",
    "ax.set_aspect('equal', adjustable='box')\n",
    "fig.tight_layout()"
   ]
  },
  {
   "cell_type": "markdown",
   "id": "0230510c",
   "metadata": {},
   "source": [
    "## Load model"
   ]
  },
  {
   "cell_type": "code",
   "execution_count": null,
   "id": "2dae38fc",
   "metadata": {},
   "outputs": [],
   "source": [
    "# set model name\n",
    "# model_name = 'CIDAS/clipseg-rd16'  # reduced dim. 16\n",
    "model_name = 'CIDAS/clipseg-rd64-refined'  # reduced dim. 64"
   ]
  },
  {
   "cell_type": "code",
   "execution_count": null,
   "id": "d84be8df",
   "metadata": {},
   "outputs": [],
   "source": [
    "# create text and image preprocessors\n",
    "processor = CLIPSegProcessor.from_pretrained(model_name)\n",
    "\n",
    "# load model\n",
    "model = CLIPSegForImageSegmentation.from_pretrained(model_name, device_map='auto')\n",
    "model = model.eval()\n",
    "\n",
    "print(f'Model device: {model.device}')\n",
    "print(f'Model dtype: {model.dtype}')\n",
    "print(f'Memory footprint: {model.get_memory_footprint() * 1e-9:.2f} GiB')\n",
    "\n",
    "print(f'\\nEmbedding dim.: {model.config.projection_dim}')\n",
    "print(f'Reduced dim.: {model.config.reduce_dim}')"
   ]
  },
  {
   "cell_type": "markdown",
   "id": "d5f62fe7",
   "metadata": {},
   "source": [
    "## Run model"
   ]
  },
  {
   "cell_type": "code",
   "execution_count": null,
   "id": "7476616b",
   "metadata": {},
   "outputs": [],
   "source": [
    "# set candidate captions\n",
    "candidate_labels = ['cat', 'remote', 'blanket', 'background']\n",
    "candidate_captions = [f'a {label}' for label in candidate_labels]\n",
    "\n",
    "# preprocess inputs\n",
    "inputs = processor(\n",
    "    text=candidate_captions,\n",
    "    images=[image] * len(candidate_captions),\n",
    "    return_tensors='pt',\n",
    "    padding=True\n",
    ")\n",
    "\n",
    "print(f'Input IDs shape: {inputs['input_ids'].shape}')\n",
    "print(f'Pixel values shape: {inputs['pixel_values'].shape}')"
   ]
  },
  {
   "cell_type": "code",
   "execution_count": null,
   "id": "35ee7a8c",
   "metadata": {},
   "outputs": [],
   "source": [
    "# run model\n",
    "with torch.no_grad():\n",
    "    outputs = model(**inputs.to(model.device))\n",
    "\n",
    "logits = outputs.logits.cpu()  # get spatial image-text similarity scores\n",
    "probs = logits.softmax(dim=0)  # get spatial label probabilities\n",
    "\n",
    "print(f'Logits shape: {logits.shape}')\n",
    "print(f'Conditional embeddings shape: {outputs.conditional_embeddings.shape}')\n",
    "print(f'Pooled_output shape: {outputs.pooled_output.shape}')"
   ]
  },
  {
   "cell_type": "code",
   "execution_count": null,
   "id": "1be758d6",
   "metadata": {},
   "outputs": [],
   "source": [
    "# show predictions\n",
    "idx = 0\n",
    "\n",
    "fig, ax = plt.subplots(figsize=(6, 4))\n",
    "ax.imshow(probs[idx].numpy() >= 0.5)\n",
    "ax.set_aspect('equal', adjustable='box')\n",
    "ax.set_title(f'{candidate_captions[idx]}')\n",
    "fig.tight_layout()"
   ]
  }
 ],
 "metadata": {
  "kernelspec": {
   "display_name": "Python 3 (ipykernel)",
   "language": "python",
   "name": "python3"
  },
  "language_info": {
   "codemirror_mode": {
    "name": "ipython",
    "version": 3
   },
   "file_extension": ".py",
   "mimetype": "text/x-python",
   "name": "python",
   "nbconvert_exporter": "python",
   "pygments_lexer": "ipython3",
   "version": "3.13.7"
  }
 },
 "nbformat": 4,
 "nbformat_minor": 5
}
