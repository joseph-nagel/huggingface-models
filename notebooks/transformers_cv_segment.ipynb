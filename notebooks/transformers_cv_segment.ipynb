{
 "cells": [
  {
   "cell_type": "markdown",
   "metadata": {},
   "source": [
    "# transformers: Semantic segmentation"
   ]
  },
  {
   "cell_type": "code",
   "execution_count": null,
   "metadata": {},
   "outputs": [],
   "source": [
    "%matplotlib inline"
   ]
  },
  {
   "cell_type": "code",
   "execution_count": null,
   "metadata": {},
   "outputs": [],
   "source": [
    "import matplotlib.pyplot as plt\n",
    "import numpy as np\n",
    "import torch\n",
    "import requests\n",
    "from PIL import Image\n",
    "from transformers import (\n",
    "    pipeline,\n",
    "    AutoImageProcessor,\n",
    "    AutoModelForSemanticSegmentation\n",
    ")"
   ]
  },
  {
   "cell_type": "markdown",
   "metadata": {},
   "source": [
    "## Load image"
   ]
  },
  {
   "cell_type": "code",
   "execution_count": null,
   "metadata": {},
   "outputs": [],
   "source": [
    "# load image\n",
    "url = 'https://huggingface.co/datasets/huggingface/documentation-images/resolve/main/transformers/tasks/segmentation_input.jpg'\n",
    "\n",
    "image = Image.open(requests.get(url, stream=True).raw)"
   ]
  },
  {
   "cell_type": "code",
   "execution_count": null,
   "metadata": {},
   "outputs": [],
   "source": [
    "# show image\n",
    "fig, ax = plt.subplots(figsize=(6, 4))\n",
    "ax.imshow(np.asarray(image))\n",
    "ax.set_aspect('equal', adjustable='box')\n",
    "fig.tight_layout()"
   ]
  },
  {
   "cell_type": "markdown",
   "metadata": {},
   "source": [
    "## Load model"
   ]
  },
  {
   "cell_type": "code",
   "execution_count": null,
   "metadata": {},
   "outputs": [],
   "source": [
    "# set device\n",
    "device = torch.device('cuda:0' if torch.cuda.is_available() else 'cpu')"
   ]
  },
  {
   "cell_type": "code",
   "execution_count": null,
   "metadata": {},
   "outputs": [],
   "source": [
    "# set model name\n",
    "model_name = 'nvidia/segformer-b1-finetuned-cityscapes-1024-1024'\n",
    "\n",
    "# create pre- and post-processor\n",
    "processor = AutoImageProcessor.from_pretrained(model_name)\n",
    "\n",
    "# load model\n",
    "model = AutoModelForSemanticSegmentation.from_pretrained(model_name, device_map='auto')\n",
    "model = model.eval()"
   ]
  },
  {
   "cell_type": "code",
   "execution_count": null,
   "metadata": {},
   "outputs": [],
   "source": [
    "# load pipeline (preprocessor, model and postprocessor)\n",
    "pipe = pipeline('image-segmentation', model=model_name, device_map='auto')"
   ]
  },
  {
   "cell_type": "markdown",
   "metadata": {},
   "source": [
    "## Run model"
   ]
  },
  {
   "cell_type": "code",
   "execution_count": null,
   "metadata": {},
   "outputs": [],
   "source": [
    "# preprocess images\n",
    "preprocessed_images = processor([image], return_tensors='pt')\n",
    "x = preprocessed_images['pixel_values']\n",
    "\n",
    "# run model\n",
    "with torch.no_grad():\n",
    "    outputs = model(x)\n",
    "\n",
    "logits = outputs.logits\n",
    "\n",
    "# postprocess outputs\n",
    "segmentations = processor.post_process_semantic_segmentation(\n",
    "    outputs,\n",
    "    target_sizes=[(image.height, image.width)]\n",
    ")\n",
    "\n",
    "print(f'Images shape: {x.shape}')\n",
    "print(f'Logits shape: {logits.shape}')"
   ]
  },
  {
   "cell_type": "code",
   "execution_count": null,
   "metadata": {},
   "outputs": [],
   "source": [
    "# get specific predictions\n",
    "target_label = 'car'\n",
    "\n",
    "target_idx = model.config.label2id[target_label]\n",
    "target_mask = (segmentations[0] == target_idx).int()"
   ]
  },
  {
   "cell_type": "code",
   "execution_count": null,
   "metadata": {},
   "outputs": [],
   "source": [
    "# show predictions\n",
    "fig, ax = plt.subplots(figsize=(6, 4))\n",
    "ax.imshow(target_mask.numpy())\n",
    "ax.set_aspect('equal', adjustable='box')\n",
    "ax.set_title(f'Predictions: {target_label}')\n",
    "fig.tight_layout()"
   ]
  },
  {
   "cell_type": "markdown",
   "metadata": {},
   "source": [
    "## Run pipeline"
   ]
  },
  {
   "cell_type": "code",
   "execution_count": null,
   "metadata": {},
   "outputs": [],
   "source": [
    "# run pipeline\n",
    "results = pipe(image)\n",
    "\n",
    "print(results)"
   ]
  },
  {
   "cell_type": "code",
   "execution_count": null,
   "metadata": {},
   "outputs": [],
   "source": [
    "# get specific predictions\n",
    "pipe_labels = [d['label'] for d in results]\n",
    "\n",
    "target_idx = pipe_labels.index(target_label)\n",
    "target_mask = results[target_idx]['mask'] # PIL image"
   ]
  },
  {
   "cell_type": "code",
   "execution_count": null,
   "metadata": {},
   "outputs": [],
   "source": [
    "# show predictions\n",
    "fig, ax = plt.subplots(figsize=(6, 4))\n",
    "ax.imshow(np.asarray(target_mask))\n",
    "ax.set_aspect('equal', adjustable='box')\n",
    "ax.set_title(f'Predictions: {target_label}')\n",
    "fig.tight_layout()"
   ]
  }
 ],
 "metadata": {
  "kernelspec": {
   "display_name": "torch",
   "language": "python",
   "name": "python3"
  },
  "language_info": {
   "codemirror_mode": {
    "name": "ipython",
    "version": 3
   },
   "file_extension": ".py",
   "mimetype": "text/x-python",
   "name": "python",
   "nbconvert_exporter": "python",
   "pygments_lexer": "ipython3",
   "version": "3.12.9"
  }
 },
 "nbformat": 4,
 "nbformat_minor": 4
}
