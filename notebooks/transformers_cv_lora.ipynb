{
 "cells": [
  {
   "cell_type": "markdown",
   "metadata": {},
   "source": [
    "# transformers: PEFT with LoRA"
   ]
  },
  {
   "cell_type": "code",
   "execution_count": null,
   "metadata": {},
   "outputs": [],
   "source": [
    "%matplotlib inline"
   ]
  },
  {
   "cell_type": "code",
   "execution_count": null,
   "metadata": {},
   "outputs": [],
   "source": [
    "import matplotlib.pyplot as plt\n",
    "import numpy as np\n",
    "import torch\n",
    "from torchvision.transforms import (\n",
    "    CenterCrop,\n",
    "    Compose,\n",
    "    Normalize,\n",
    "    RandomHorizontalFlip,\n",
    "    RandomResizedCrop,\n",
    "    Resize,\n",
    "    ToTensor\n",
    ")\n",
    "import evaluate\n",
    "from datasets import load_dataset\n",
    "from transformers import (\n",
    "    set_seed,\n",
    "    AutoImageProcessor,\n",
    "    AutoModelForImageClassification,\n",
    "    TrainingArguments,\n",
    "    Trainer\n",
    ")\n",
    "from peft import (\n",
    "    LoraConfig,\n",
    "    LoraModel,\n",
    "    get_peft_model\n",
    ")\n",
    "from peft.tuners.lora.layer import LoraLayer"
   ]
  },
  {
   "cell_type": "code",
   "execution_count": null,
   "metadata": {},
   "outputs": [],
   "source": [
    "# set random seed\n",
    "set_seed(123)"
   ]
  },
  {
   "cell_type": "markdown",
   "metadata": {},
   "source": [
    "## Load data"
   ]
  },
  {
   "cell_type": "code",
   "execution_count": null,
   "metadata": {},
   "outputs": [],
   "source": [
    "# load data\n",
    "ds = load_dataset('food101', split='train[:5000]')\n",
    "ds = ds.train_test_split(test_size=0.2)\n",
    "\n",
    "print(ds)"
   ]
  },
  {
   "cell_type": "code",
   "execution_count": null,
   "metadata": {},
   "outputs": [],
   "source": [
    "# get label names\n",
    "label_names = ds['train'].features['label'].names\n",
    "\n",
    "print(label_names)"
   ]
  },
  {
   "cell_type": "code",
   "execution_count": null,
   "metadata": {},
   "outputs": [],
   "source": [
    "# show example images\n",
    "fig, axes = plt.subplots(nrows=4, ncols=4, figsize=(6, 5))\n",
    "random_ids = np.random.choice(len(ds['train']), size=axes.size, replace=False).tolist()\n",
    "for random_idx, ax in zip(random_ids, axes.ravel()):\n",
    "    pil_image = ds['train'][random_idx]['image']\n",
    "    label_idx = ds['train'][random_idx]['label']\n",
    "    ax.imshow(np.asarray(pil_image))\n",
    "    ax.set_title(label_names[label_idx])\n",
    "    ax.set(xticks=[], yticks=[], xlabel=None, ylabel=None)\n",
    "fig.tight_layout()"
   ]
  },
  {
   "cell_type": "markdown",
   "metadata": {},
   "source": [
    "## Initialize model"
   ]
  },
  {
   "cell_type": "code",
   "execution_count": null,
   "metadata": {},
   "outputs": [],
   "source": [
    "# set model name\n",
    "model_name = 'google/vit-base-patch16-224'\n",
    "# model_name = 'facebook/dinov2-small-imagenet1k-1-layer'"
   ]
  },
  {
   "cell_type": "code",
   "execution_count": null,
   "metadata": {},
   "outputs": [],
   "source": [
    "# set device\n",
    "device_map = 'cuda:0' if torch.cuda.is_available() else 'cpu'\n",
    "\n",
    "device = torch.device(device_map)"
   ]
  },
  {
   "cell_type": "code",
   "execution_count": null,
   "metadata": {},
   "outputs": [],
   "source": [
    "# create preprocessor\n",
    "processor = AutoImageProcessor.from_pretrained(model_name)\n",
    "\n",
    "# initialize model\n",
    "model = AutoModelForImageClassification.from_pretrained(\n",
    "    model_name,\n",
    "    device_map=device_map,\n",
    "    num_labels=len(label_names),  # set number of target labels\n",
    "    id2label={idx: label for idx, label in enumerate(label_names)},\n",
    "    label2id={label: idx for idx, label in enumerate(label_names)},\n",
    "    ignore_mismatched_sizes=True\n",
    ")\n",
    "model = model.eval()\n",
    "\n",
    "print('Model device: {}'.format(model.device))\n",
    "print('Model dtype: {}'.format(model.dtype))\n",
    "print('Memory footprint: {:.2f} GiB'.format(model.get_memory_footprint() * 1e-9))"
   ]
  },
  {
   "cell_type": "code",
   "execution_count": null,
   "metadata": {},
   "outputs": [],
   "source": [
    "# create LoRA config\n",
    "config = LoraConfig(\n",
    "    r=16,\n",
    "    lora_alpha=16.0,\n",
    "    lora_dropout=0.1,\n",
    "    init_lora_weights=True,\n",
    "    bias='none',\n",
    "    target_modules=['query', 'value'],  # specify layers to apply LoRA (linear, conv2d, MHA, etc.)\n",
    "    modules_to_save=['classifier']  # specify layers to unfreeze and update\n",
    ")"
   ]
  },
  {
   "cell_type": "code",
   "execution_count": null,
   "metadata": {},
   "outputs": [],
   "source": [
    "# create LoRA model\n",
    "model = get_peft_model(model, config)  # this works too with other (non-transformers) PyTorch models\n",
    "\n",
    "model.print_trainable_parameters()"
   ]
  },
  {
   "cell_type": "code",
   "execution_count": null,
   "metadata": {},
   "outputs": [],
   "source": [
    "# check LoRA model\n",
    "is_lora_model = isinstance(model.base_model, LoraModel)\n",
    "has_lora_layers = any([isinstance(m, LoraLayer) for m in model.modules()])\n",
    "\n",
    "if is_lora_model and has_lora_layers:\n",
    "    print('LoRA model is correctly initialized')\n",
    "else:\n",
    "    print('LoRA model not correctly initialized')"
   ]
  },
  {
   "cell_type": "markdown",
   "metadata": {},
   "source": [
    "## Set up training"
   ]
  },
  {
   "cell_type": "code",
   "execution_count": null,
   "metadata": {},
   "outputs": [],
   "source": [
    "# create transforms\n",
    "normalize = Normalize(mean=processor.image_mean, std=processor.image_std)\n",
    "\n",
    "transform_train = Compose([\n",
    "    RandomResizedCrop(processor.size['height']),\n",
    "    RandomHorizontalFlip(),\n",
    "    ToTensor(),\n",
    "    normalize\n",
    "])\n",
    "\n",
    "transform_val = Compose([\n",
    "    Resize(processor.size['height']),\n",
    "    CenterCrop(processor.size['height']),\n",
    "    ToTensor(),\n",
    "    normalize\n",
    "])\n",
    "\n",
    "def preprocess_train(batch):\n",
    "    '''Apply train transform across batch of images.'''\n",
    "    batch['pixel_values'] = [transform_train(img.convert('RGB')) for img in batch['image']]\n",
    "    return batch\n",
    "\n",
    "def preprocess_val(batch):\n",
    "    '''Apply val transform across batch of images.'''\n",
    "    batch['pixel_values'] = [transform_val(img.convert('RGB')) for img in batch['image']]\n",
    "    return batch"
   ]
  },
  {
   "cell_type": "code",
   "execution_count": null,
   "metadata": {},
   "outputs": [],
   "source": [
    "# create train and val. datasets\n",
    "ds_train = ds['train']\n",
    "ds_val = ds['test']\n",
    "\n",
    "# set transforms\n",
    "ds_train.set_transform(preprocess_train)\n",
    "ds_val.set_transform(preprocess_val)"
   ]
  },
  {
   "cell_type": "code",
   "execution_count": null,
   "metadata": {},
   "outputs": [],
   "source": [
    "# create collate function (for assembling batches)\n",
    "def collate_fn(examples):\n",
    "    pixel_values = torch.stack([example['pixel_values'] for example in examples])\n",
    "    labels = torch.tensor([example['label'] for example in examples])\n",
    "    return {\n",
    "        'pixel_values': pixel_values,\n",
    "        'labels': labels\n",
    "    }"
   ]
  },
  {
   "cell_type": "code",
   "execution_count": null,
   "metadata": {},
   "outputs": [],
   "source": [
    "# create evaluation function\n",
    "metric = evaluate.load('accuracy')\n",
    "\n",
    "def compute_metrics(eval_pred):\n",
    "    '''Compute accuracy on a batch of predictions.'''\n",
    "    predictions = np.argmax(eval_pred.predictions, axis=1)\n",
    "    return metric.compute(predictions=predictions, references=eval_pred.label_ids)"
   ]
  },
  {
   "cell_type": "code",
   "execution_count": null,
   "metadata": {},
   "outputs": [],
   "source": [
    "# set training args\n",
    "training_args = TrainingArguments(\n",
    "    output_dir=f'../run/{model_name.split('/')[-1]}-finetuned-lora-food101',\n",
    "    overwrite_output_dir=False,\n",
    "    remove_unused_columns=False,\n",
    "    seed=42,\n",
    "    use_cpu=(device_map == 'cpu'),\n",
    "    bf16=True,\n",
    "    per_device_train_batch_size=16,\n",
    "    per_device_eval_batch_size=16,\n",
    "    gradient_accumulation_steps=1,\n",
    "    num_train_epochs=1,\n",
    "    learning_rate=5e-3,\n",
    "    optim='adamw_torch',\n",
    "    weight_decay=0.,\n",
    "    dataloader_drop_last=True,\n",
    "    dataloader_num_workers=0,\n",
    "    dataloader_pin_memory=True,\n",
    "    dataloader_persistent_workers=False,\n",
    "    eval_on_start=True,\n",
    "    eval_strategy='epoch',\n",
    "    save_strategy='best',\n",
    "    logging_strategy='steps',\n",
    "    logging_steps=100,\n",
    "    load_best_model_at_end=True,\n",
    "    push_to_hub=False\n",
    ")"
   ]
  },
  {
   "cell_type": "code",
   "execution_count": null,
   "metadata": {},
   "outputs": [],
   "source": [
    "# create trainer\n",
    "trainer = Trainer(\n",
    "    model=model,\n",
    "    args=training_args,\n",
    "    data_collator=collate_fn,\n",
    "    train_dataset=ds_train,\n",
    "    eval_dataset=ds_val,\n",
    "    processing_class=processor,\n",
    "    compute_metrics=compute_metrics\n",
    ")"
   ]
  },
  {
   "cell_type": "markdown",
   "metadata": {},
   "source": [
    "## Train model"
   ]
  },
  {
   "cell_type": "code",
   "execution_count": null,
   "metadata": {},
   "outputs": [],
   "source": [
    "# start training\n",
    "results = trainer.train()"
   ]
  }
 ],
 "metadata": {
  "kernelspec": {
   "display_name": "torch",
   "language": "python",
   "name": "python3"
  },
  "language_info": {
   "codemirror_mode": {
    "name": "ipython",
    "version": 3
   },
   "file_extension": ".py",
   "mimetype": "text/x-python",
   "name": "python",
   "nbconvert_exporter": "python",
   "pygments_lexer": "ipython3",
   "version": "3.12.9"
  }
 },
 "nbformat": 4,
 "nbformat_minor": 4
}
