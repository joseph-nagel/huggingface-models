{
 "cells": [
  {
   "cell_type": "markdown",
   "metadata": {},
   "source": [
    "# transformers: Bidirectional LMs"
   ]
  },
  {
   "cell_type": "code",
   "execution_count": null,
   "metadata": {},
   "outputs": [],
   "source": [
    "import torch\n",
    "from transformers import (\n",
    "    set_seed,\n",
    "    AutoTokenizer,\n",
    "    AutoModel # feature extractors (without task-specific head)\n",
    "    # AutoModelForMaskedLM, # bidirectional models (BERT-like, encoder-only)\n",
    "    # AutoModelForSequenceClassification # sequence classification (replaces final head)\n",
    ")"
   ]
  },
  {
   "cell_type": "code",
   "execution_count": null,
   "metadata": {},
   "outputs": [],
   "source": [
    "# set random seed manually\n",
    "set_seed(123)"
   ]
  },
  {
   "cell_type": "markdown",
   "metadata": {},
   "source": [
    "## Load model"
   ]
  },
  {
   "cell_type": "code",
   "execution_count": null,
   "metadata": {},
   "outputs": [],
   "source": [
    "# set model name\n",
    "model_name = 'distilbert-base-uncased'"
   ]
  },
  {
   "cell_type": "code",
   "execution_count": null,
   "metadata": {},
   "outputs": [],
   "source": [
    "# create tokenizer\n",
    "tokenizer = AutoTokenizer.from_pretrained(model_name)\n",
    "\n",
    "print(tokenizer)"
   ]
  },
  {
   "cell_type": "code",
   "execution_count": null,
   "metadata": {},
   "outputs": [],
   "source": [
    "# load model\n",
    "model = AutoModel.from_pretrained(\n",
    "    model_name,\n",
    "    device_map='cpu',\n",
    "    torch_dtype=torch.bfloat16, # use brain floating point format\n",
    ")\n",
    "model = model.eval()\n",
    "\n",
    "print('Model device: {}'.format(model.device))\n",
    "print('Model dtype: {}'.format(model.dtype))\n",
    "print('Memory footprint: {:.2f} GiB'.format(model.get_memory_footprint() * 1e-9))\n",
    "\n",
    "print(model)"
   ]
  },
  {
   "cell_type": "markdown",
   "metadata": {},
   "source": [
    "## Run model"
   ]
  },
  {
   "cell_type": "code",
   "execution_count": null,
   "metadata": {},
   "outputs": [],
   "source": [
    "# create raw input\n",
    "raw_input = [\n",
    "    'A rabbit goes into the supermarket.',\n",
    "    'One, two, three, four, five.'\n",
    "]\n",
    "\n",
    "# tokenize\n",
    "model_input = tokenizer(\n",
    "    raw_input,\n",
    "    padding=True, # turn on padding (for batched inputs)\n",
    "    truncation=True, # turn on truncation (to max. length)\n",
    "    return_tensors='pt' # return PyTorch tensor\n",
    ")\n",
    "\n",
    "# transfer to device\n",
    "model_input = {key: tensor.to(model.device) for key, tensor in model_input.items()}\n",
    "\n",
    "print(model_input)"
   ]
  },
  {
   "cell_type": "code",
   "execution_count": null,
   "metadata": {},
   "outputs": [],
   "source": [
    "## extract features\n",
    "features = model(**model_input) # (batch, sequence, features)\n",
    "\n",
    "print('Features shape: {}'.format(features['last_hidden_state'].shape))"
   ]
  }
 ],
 "metadata": {
  "kernelspec": {
   "display_name": "Python 3 (ipykernel)",
   "language": "python",
   "name": "python3"
  },
  "language_info": {
   "codemirror_mode": {
    "name": "ipython",
    "version": 3
   },
   "file_extension": ".py",
   "mimetype": "text/x-python",
   "name": "python",
   "nbconvert_exporter": "python",
   "pygments_lexer": "ipython3",
   "version": "3.12.4"
  }
 },
 "nbformat": 4,
 "nbformat_minor": 4
}
