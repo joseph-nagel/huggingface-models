{
 "cells": [
  {
   "cell_type": "markdown",
   "id": "57563e58",
   "metadata": {},
   "source": [
    "# transformers: Vision-language models"
   ]
  },
  {
   "cell_type": "code",
   "execution_count": null,
   "id": "902f1581",
   "metadata": {},
   "outputs": [],
   "source": [
    "%matplotlib inline"
   ]
  },
  {
   "cell_type": "code",
   "execution_count": null,
   "id": "8cc9fd86",
   "metadata": {},
   "outputs": [],
   "source": [
    "import matplotlib.pyplot as plt\n",
    "import numpy as np\n",
    "import torch\n",
    "import requests\n",
    "from PIL import Image\n",
    "from transformers import (\n",
    "    pipeline,\n",
    "    AutoProcessor,\n",
    "    AutoModel,\n",
    "    CLIPProcessor,\n",
    "    CLIPModel\n",
    ")"
   ]
  },
  {
   "cell_type": "markdown",
   "id": "cedd4b64",
   "metadata": {},
   "source": [
    "## Load image"
   ]
  },
  {
   "cell_type": "code",
   "execution_count": null,
   "id": "5e975f24",
   "metadata": {},
   "outputs": [],
   "source": [
    "# load image\n",
    "url = 'http://images.cocodataset.org/val2017/000000039769.jpg'\n",
    "\n",
    "image = Image.open(requests.get(url, stream=True).raw)"
   ]
  },
  {
   "cell_type": "code",
   "execution_count": null,
   "id": "eed8ca2f",
   "metadata": {},
   "outputs": [],
   "source": [
    "# show image\n",
    "fig, ax = plt.subplots(figsize=(6, 4))\n",
    "ax.imshow(np.asarray(image))\n",
    "ax.set_aspect('equal', adjustable='box')\n",
    "fig.tight_layout()"
   ]
  },
  {
   "cell_type": "markdown",
   "id": "0230510c",
   "metadata": {},
   "source": [
    "## Load model"
   ]
  },
  {
   "cell_type": "code",
   "execution_count": null,
   "id": "2dae38fc",
   "metadata": {},
   "outputs": [],
   "source": [
    "# set model name\n",
    "model_name = 'openai/clip-vit-base-patch32'\n",
    "\n",
    "# create text and image preprocessors\n",
    "processor = CLIPProcessor.from_pretrained(model_name)\n",
    "\n",
    "# load model\n",
    "model = CLIPModel.from_pretrained(\n",
    "    model_name,\n",
    "    # attn_implementation='sdpa',\n",
    "    torch_dtype=torch.bfloat16,\n",
    "    device_map='auto'\n",
    ")\n",
    "model = model.eval()"
   ]
  },
  {
   "cell_type": "code",
   "execution_count": null,
   "id": "dc16dd85",
   "metadata": {},
   "outputs": [],
   "source": [
    "# load pipeline (preprocessors, model and postprocessor)\n",
    "pipe = pipeline(\n",
    "   task='zero-shot-image-classification',\n",
    "   model=model_name,\n",
    "   torch_dtype=torch.bfloat16,\n",
    "   device_map='auto'\n",
    ")"
   ]
  },
  {
   "cell_type": "markdown",
   "id": "d5f62fe7",
   "metadata": {},
   "source": [
    "## Run model"
   ]
  },
  {
   "cell_type": "code",
   "execution_count": null,
   "id": "7476616b",
   "metadata": {},
   "outputs": [],
   "source": [
    "# set candidate captions\n",
    "candidate_labels = ['cat', 'dog', 'car']\n",
    "candidate_captions = [f'a photo of a {label}' for label in candidate_labels]\n",
    "\n",
    "# preprocess inputs\n",
    "inputs = processor(\n",
    "    text=candidate_captions,\n",
    "    images=image,\n",
    "    return_tensors='pt',\n",
    "    padding=True\n",
    ")\n",
    "\n",
    "print(f'Input IDs shape: {inputs['input_ids'].shape}')\n",
    "print(f'Pixel values shape: {inputs['pixel_values'].shape}')"
   ]
  },
  {
   "cell_type": "code",
   "execution_count": null,
   "id": "35ee7a8c",
   "metadata": {},
   "outputs": [],
   "source": [
    "# run model\n",
    "with torch.no_grad():\n",
    "    outputs = model(**inputs.to(model.device))\n",
    "\n",
    "logits_per_image = outputs.logits_per_image.cpu() # get image-text similarity score\n",
    "probs_per_image = logits_per_image.softmax(dim=-1) # get label probabilities\n",
    "\n",
    "print(f'Logits shape: {logits_per_image.shape}')"
   ]
  },
  {
   "cell_type": "code",
   "execution_count": null,
   "id": "a50e4718",
   "metadata": {},
   "outputs": [],
   "source": [
    "# get predicted labels\n",
    "label_ids = logits_per_image.argmax(dim=-1)\n",
    "\n",
    "captions = candidate_captions[label_ids]\n",
    "labels = candidate_labels[label_ids]\n",
    "\n",
    "print(labels)"
   ]
  },
  {
   "cell_type": "markdown",
   "id": "6b3628d3",
   "metadata": {},
   "source": [
    "## Run pipeline"
   ]
  },
  {
   "cell_type": "code",
   "execution_count": null,
   "id": "6b60b395",
   "metadata": {},
   "outputs": [],
   "source": [
    "# run pipeline\n",
    "results = pipe(\n",
    "    images=image,\n",
    "    candidate_labels=candidate_labels\n",
    ")\n",
    "\n",
    "print(results)"
   ]
  }
 ],
 "metadata": {
  "kernelspec": {
   "display_name": "torch",
   "language": "python",
   "name": "python3"
  },
  "language_info": {
   "codemirror_mode": {
    "name": "ipython",
    "version": 3
   },
   "file_extension": ".py",
   "mimetype": "text/x-python",
   "name": "python",
   "nbconvert_exporter": "python",
   "pygments_lexer": "ipython3",
   "version": "3.12.9"
  }
 },
 "nbformat": 4,
 "nbformat_minor": 5
}
