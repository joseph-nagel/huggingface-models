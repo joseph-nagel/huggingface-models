{
 "cells": [
  {
   "cell_type": "markdown",
   "metadata": {},
   "source": [
    "# timm (PyTorch image models)"
   ]
  },
  {
   "cell_type": "code",
   "execution_count": null,
   "metadata": {},
   "outputs": [],
   "source": [
    "%matplotlib inline"
   ]
  },
  {
   "cell_type": "code",
   "execution_count": null,
   "metadata": {},
   "outputs": [],
   "source": [
    "import matplotlib.pyplot as plt\n",
    "import numpy as np\n",
    "import torch\n",
    "import timm\n",
    "# from timm.models.vision_transformer import VisionTransformer\n",
    "from transformers.image_utils import load_image"
   ]
  },
  {
   "cell_type": "code",
   "execution_count": null,
   "metadata": {
    "scrolled": true
   },
   "outputs": [],
   "source": [
    "# list pretrained models\n",
    "# timm.list_models(pretrained=True)"
   ]
  },
  {
   "cell_type": "markdown",
   "metadata": {},
   "source": [
    "## Load image"
   ]
  },
  {
   "cell_type": "code",
   "execution_count": null,
   "metadata": {},
   "outputs": [],
   "source": [
    "# load image\n",
    "url = 'http://images.cocodataset.org/val2017/000000039769.jpg'\n",
    "# url = 'https://huggingface.co/datasets/huggingface/documentation-images/resolve/main/beignets-task-guide.png'\n",
    "\n",
    "image = load_image(url)"
   ]
  },
  {
   "cell_type": "code",
   "execution_count": null,
   "metadata": {},
   "outputs": [],
   "source": [
    "# show image\n",
    "fig, ax = plt.subplots(figsize=(6, 4))\n",
    "ax.imshow(np.asarray(image))\n",
    "ax.set_aspect('equal', adjustable='box')\n",
    "fig.tight_layout()"
   ]
  },
  {
   "cell_type": "markdown",
   "metadata": {},
   "source": [
    "## MobileNet"
   ]
  },
  {
   "cell_type": "code",
   "execution_count": null,
   "metadata": {
    "scrolled": true
   },
   "outputs": [],
   "source": [
    "# load pretrained model\n",
    "mobile_net = timm.create_model(\n",
    "    'mobilenetv3_large_100',\n",
    "    pretrained=True,\n",
    "    # num_classes=23  # set number of outputs for finetuning\n",
    ")\n",
    "mobile_net = mobile_net.eval()"
   ]
  },
  {
   "cell_type": "code",
   "execution_count": null,
   "metadata": {},
   "outputs": [],
   "source": [
    "# create transform\n",
    "data_cfg = timm.data.resolve_data_config(model=mobile_net)\n",
    "transform = timm.data.create_transform(**data_cfg, is_training=False)\n",
    "\n",
    "print(transform)"
   ]
  },
  {
   "cell_type": "code",
   "execution_count": null,
   "metadata": {},
   "outputs": [],
   "source": [
    "# sample random inputs\n",
    "# x = torch.randn(1, 3, 224, 224)\n",
    "\n",
    "# preprocess image\n",
    "x = transform(image).unsqueeze(0)  # (1, 3, 224, 224)\n",
    "\n",
    "print(f'Inputs shape: {x.shape}')"
   ]
  },
  {
   "cell_type": "code",
   "execution_count": null,
   "metadata": {},
   "outputs": [],
   "source": [
    "# compute predictions\n",
    "with torch.inference_mode():\n",
    "    logits = mobile_net(x)\n",
    "\n",
    "print(f'Logits shape: {logits.shape}')"
   ]
  },
  {
   "cell_type": "code",
   "execution_count": null,
   "metadata": {},
   "outputs": [],
   "source": [
    "# get top-5 predictions\n",
    "top5_probas, top5_ids = torch.topk(logits.softmax(dim=1), k=5)"
   ]
  },
  {
   "cell_type": "markdown",
   "metadata": {},
   "source": [
    "## ResNet"
   ]
  },
  {
   "cell_type": "code",
   "execution_count": null,
   "metadata": {
    "scrolled": true
   },
   "outputs": [],
   "source": [
    "# load pretrained model\n",
    "resnet = timm.create_model(\n",
    "    'resnet50',\n",
    "    pretrained=True\n",
    ")\n",
    "resnet = resnet.eval()"
   ]
  },
  {
   "cell_type": "code",
   "execution_count": null,
   "metadata": {},
   "outputs": [],
   "source": [
    "# create transform\n",
    "data_config = timm.data.resolve_data_config(pretrained_cfg=resnet.pretrained_cfg)\n",
    "transform = timm.data.create_transform(**data_config, is_training=False)\n",
    "\n",
    "print(transform)"
   ]
  },
  {
   "cell_type": "code",
   "execution_count": null,
   "metadata": {},
   "outputs": [],
   "source": [
    "# preprocess image\n",
    "x = transform(image).unsqueeze(0)  # (1, 3, 224, 224)\n",
    "\n",
    "print(f'Inputs shape: {x.shape}')"
   ]
  },
  {
   "cell_type": "code",
   "execution_count": null,
   "metadata": {},
   "outputs": [],
   "source": [
    "# compute features and predictions\n",
    "with torch.inference_mode():\n",
    "    features = resnet.forward_features(x)\n",
    "    logits = resnet.forward_head(features)\n",
    "\n",
    "print(f'Features shape: {features.shape}')\n",
    "print(f'Logits shape: {logits.shape}')"
   ]
  },
  {
   "cell_type": "code",
   "execution_count": null,
   "metadata": {
    "scrolled": true
   },
   "outputs": [],
   "source": [
    "# load pretrained model without last pooling and FC layers\n",
    "resnet_features = timm.create_model(\n",
    "    'resnet50',\n",
    "    pretrained=True,\n",
    "    num_classes=0,\n",
    "    global_pool=''\n",
    ")"
   ]
  },
  {
   "cell_type": "code",
   "execution_count": null,
   "metadata": {},
   "outputs": [],
   "source": [
    "# compute features\n",
    "with torch.inference_mode():\n",
    "    features = resnet_features(x)\n",
    "\n",
    "print(f'Features shape: {features.shape}')"
   ]
  },
  {
   "cell_type": "markdown",
   "metadata": {},
   "source": [
    "# DINOv2"
   ]
  },
  {
   "cell_type": "code",
   "execution_count": null,
   "metadata": {},
   "outputs": [],
   "source": [
    "# load pretrained model\n",
    "dinov2 = timm.create_model(\n",
    "    'vit_large_patch14_dinov2.lvd142m',\n",
    "    pretrained=True\n",
    "    # num_classes=0  # remove final classifier\n",
    ")\n",
    "dinov2 = dinov2.eval()"
   ]
  },
  {
   "cell_type": "code",
   "execution_count": null,
   "metadata": {},
   "outputs": [],
   "source": [
    "# create transform\n",
    "data_config = timm.data.resolve_data_config(model=dinov2)\n",
    "transform = timm.data.create_transform(**data_config, is_training=False)"
   ]
  },
  {
   "cell_type": "code",
   "execution_count": null,
   "metadata": {},
   "outputs": [],
   "source": [
    "# preprocess image\n",
    "x = transform(image).unsqueeze(0)  # (1, 3, 518, 518)\n",
    "\n",
    "print(f'Inputs shape: {x.shape}')"
   ]
  },
  {
   "cell_type": "code",
   "execution_count": null,
   "metadata": {},
   "outputs": [],
   "source": [
    "# compute predictions\n",
    "with torch.inference_mode():\n",
    "    logits = dinov2(x)\n",
    "\n",
    "print(f'Logits shape: {logits.shape}')"
   ]
  },
  {
   "cell_type": "code",
   "execution_count": null,
   "metadata": {},
   "outputs": [],
   "source": [
    "# compute features and predictions\n",
    "with torch.inference_mode():\n",
    "    features = dinov2.forward_features(x)\n",
    "    logits = dinov2.forward_head(features, pre_logits=False)\n",
    "\n",
    "print(f'Features shape: {features.shape}')\n",
    "print(f'Logits shape: {logits.shape}')"
   ]
  }
 ],
 "metadata": {
  "kernelspec": {
   "display_name": "Python 3 (ipykernel)",
   "language": "python",
   "name": "python3"
  },
  "language_info": {
   "codemirror_mode": {
    "name": "ipython",
    "version": 3
   },
   "file_extension": ".py",
   "mimetype": "text/x-python",
   "name": "python",
   "nbconvert_exporter": "python",
   "pygments_lexer": "ipython3",
   "version": "3.13.7"
  }
 },
 "nbformat": 4,
 "nbformat_minor": 4
}
