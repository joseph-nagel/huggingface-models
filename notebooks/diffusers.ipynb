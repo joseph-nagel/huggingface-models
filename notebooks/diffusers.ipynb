{
 "cells": [
  {
   "cell_type": "markdown",
   "metadata": {},
   "source": [
    "# diffusers"
   ]
  },
  {
   "cell_type": "code",
   "execution_count": null,
   "metadata": {},
   "outputs": [],
   "source": [
    "%matplotlib inline"
   ]
  },
  {
   "cell_type": "code",
   "execution_count": null,
   "metadata": {},
   "outputs": [],
   "source": [
    "import matplotlib.pyplot as plt\n",
    "import numpy as np\n",
    "import torch\n",
    "from diffusers import (\n",
    "    DDPMPipeline,\n",
    "    DDPMScheduler,\n",
    "    UNet2DModel\n",
    ")"
   ]
  },
  {
   "cell_type": "markdown",
   "metadata": {},
   "source": [
    "## Load model"
   ]
  },
  {
   "cell_type": "code",
   "execution_count": null,
   "metadata": {},
   "outputs": [],
   "source": [
    "# set model name\n",
    "model_name = 'google/ddpm-cat-256'"
   ]
  },
  {
   "cell_type": "code",
   "execution_count": null,
   "metadata": {
    "scrolled": true
   },
   "outputs": [],
   "source": [
    "# load scheduler and model\n",
    "scheduler = DDPMScheduler.from_pretrained(model_name)\n",
    "unet = UNet2DModel.from_pretrained(model_name, use_safetensors=True)\n",
    "\n",
    "print(f'Time steps:\\n{scheduler.timesteps}')"
   ]
  },
  {
   "cell_type": "code",
   "execution_count": null,
   "metadata": {},
   "outputs": [],
   "source": [
    "# load pipeline (u-net and scheduler)\n",
    "ddpm = DDPMPipeline.from_pretrained(model_name)"
   ]
  },
  {
   "cell_type": "markdown",
   "metadata": {},
   "source": [
    "## Generate images"
   ]
  },
  {
   "cell_type": "code",
   "execution_count": null,
   "metadata": {},
   "outputs": [],
   "source": [
    "# reset time steps\n",
    "scheduler.set_timesteps(num_inference_steps=50)\n",
    "\n",
    "print(f'Time steps:\\n{scheduler.timesteps}')"
   ]
  },
  {
   "cell_type": "code",
   "execution_count": null,
   "metadata": {},
   "outputs": [],
   "source": [
    "# sample initial noise\n",
    "sample_size = unet.config.sample_size\n",
    "\n",
    "noise = torch.randn((1, 3, sample_size, sample_size))"
   ]
  },
  {
   "cell_type": "code",
   "execution_count": null,
   "metadata": {},
   "outputs": [],
   "source": [
    "# run generative process\n",
    "x_denoised = noise\n",
    "\n",
    "# iterate over time steps\n",
    "for t in scheduler.timesteps:\n",
    "\n",
    "    # predict eps based on noisy x and t\n",
    "    with torch.inference_mode():\n",
    "        eps_pred = unet(x_denoised, t).sample\n",
    "\n",
    "    # sample denoised x at previous step\n",
    "    x_denoised = scheduler.step(eps_pred, t, x_denoised).prev_sample"
   ]
  },
  {
   "cell_type": "code",
   "execution_count": null,
   "metadata": {},
   "outputs": [],
   "source": [
    "# show image\n",
    "image_tensor = (x_denoised[0] / 2 + 0.5).clamp(0, 1)\n",
    "image_tensor = image_tensor.permute(1, 2, 0)\n",
    "\n",
    "fig, ax = plt.subplots(figsize=(4, 4))\n",
    "ax.imshow(image_tensor.numpy())\n",
    "ax.set_aspect('equal', adjustable='box')\n",
    "fig.tight_layout()"
   ]
  },
  {
   "cell_type": "markdown",
   "metadata": {},
   "source": [
    "## Generate with pipeline"
   ]
  },
  {
   "cell_type": "code",
   "execution_count": null,
   "metadata": {},
   "outputs": [],
   "source": [
    "# run generative process\n",
    "images = ddpm(num_inference_steps=25).images  # PIL images"
   ]
  },
  {
   "cell_type": "code",
   "execution_count": null,
   "metadata": {},
   "outputs": [],
   "source": [
    "# show image\n",
    "fig, ax = plt.subplots(figsize=(4, 4))\n",
    "ax.imshow(np.asarray(images[0]))\n",
    "ax.set_aspect('equal', adjustable='box')\n",
    "fig.tight_layout()"
   ]
  }
 ],
 "metadata": {
  "kernelspec": {
   "display_name": "Python 3 (ipykernel)",
   "language": "python",
   "name": "python3"
  },
  "language_info": {
   "codemirror_mode": {
    "name": "ipython",
    "version": 3
   },
   "file_extension": ".py",
   "mimetype": "text/x-python",
   "name": "python",
   "nbconvert_exporter": "python",
   "pygments_lexer": "ipython3",
   "version": "3.13.7"
  }
 },
 "nbformat": 4,
 "nbformat_minor": 4
}
